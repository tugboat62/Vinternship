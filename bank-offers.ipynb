{
 "cells": [
  {
   "cell_type": "code",
   "execution_count": 1,
   "id": "92c2239f",
   "metadata": {
    "_cell_guid": "b1076dfc-b9ad-4769-8c92-a6c4dae69d19",
    "_uuid": "8f2839f25d086af736a60e9eeb907d3b93b6e0e5",
    "execution": {
     "iopub.execute_input": "2023-05-24T19:58:30.502391Z",
     "iopub.status.busy": "2023-05-24T19:58:30.501928Z",
     "iopub.status.idle": "2023-05-24T19:59:16.647365Z",
     "shell.execute_reply": "2023-05-24T19:59:16.645912Z"
    },
    "papermill": {
     "duration": 46.15452,
     "end_time": "2023-05-24T19:59:16.650537",
     "exception": false,
     "start_time": "2023-05-24T19:58:30.496017",
     "status": "completed"
    },
    "tags": []
   },
   "outputs": [
    {
     "name": "stdout",
     "output_type": "stream",
     "text": [
      "/kaggle/input/bankOffers/Transaction_Naration_Data_Set.csv\n"
     ]
    },
    {
     "name": "stderr",
     "output_type": "stream",
     "text": [
      "/opt/conda/lib/python3.10/site-packages/scipy/__init__.py:146: UserWarning: A NumPy version >=1.16.5 and <1.23.0 is required for this version of SciPy (detected version 1.23.5\n",
      "  warnings.warn(f\"A NumPy version >={np_minversion} and <{np_maxversion}\"\n"
     ]
    }
   ],
   "source": [
    "# This Python 3 environment comes with many helpful analytics libraries installed\n",
    "# It is defined by the kaggle/python Docker image: https://github.com/kaggle/docker-python\n",
    "# For example, here's several helpful packages to load\n",
    "\n",
    "import numpy as np # linear algebra\n",
    "import pandas as pd # data processing, CSV file I/O (e.g. pd.read_csv)\n",
    "\n",
    "# Input data files are available in the read-only \"../input/\" directory\n",
    "# For example, running this (by clicking run or pressing Shift+Enter) will list all files under the input directory\n",
    "\n",
    "import os\n",
    "for dirname, _, filenames in os.walk('/kaggle/input'):\n",
    "    for filename in filenames:\n",
    "        print(os.path.join(dirname, filename))\n",
    "\n",
    "# You can write up to 20GB to the current directory (/kaggle/working/) that gets preserved as output when you create a version using \"Save & Run All\" \n",
    "# You can also write temporary files to /kaggle/temp/, but they won't be saved outside of the current session\n",
    "\n",
    "import pandas as pd\n",
    "from sklearn.feature_extraction.text import TfidfVectorizer\n",
    "from sklearn.cluster import KMeans\n",
    "\n",
    "data = pd.read_csv('/kaggle/input/bankOffers/Transaction_Naration_Data_Set.csv')  # Replace 'transactions.csv' with the actual filename\n",
    "\n",
    "# Perform any necessary preprocessing steps, such as removing noise or irrelevant characters\n"
   ]
  },
  {
   "cell_type": "code",
   "execution_count": 2,
   "id": "89e30af3",
   "metadata": {
    "execution": {
     "iopub.execute_input": "2023-05-24T19:59:16.658712Z",
     "iopub.status.busy": "2023-05-24T19:59:16.658269Z",
     "iopub.status.idle": "2023-05-24T19:59:16.664512Z",
     "shell.execute_reply": "2023-05-24T19:59:16.663023Z"
    },
    "papermill": {
     "duration": 0.013716,
     "end_time": "2023-05-24T19:59:16.667615",
     "exception": false,
     "start_time": "2023-05-24T19:59:16.653899",
     "status": "completed"
    },
    "tags": []
   },
   "outputs": [],
   "source": [
    "# data.head(20)\n",
    "# data['NARATION'] = data['NARATION'].str.lower()\n",
    "# data.head()\n",
    "\n",
    "# print(data['AMOUNT'].max())\n",
    "# print(data['AMOUNT'].min())\n",
    "\n",
    "# distinct_count = data['AC_ID'].nunique()  # Replace 'column_name' with the actual column name\n",
    "\n",
    "# # Print the number of distinct values\n",
    "# print(\"Number of distinct values:\", distinct_count)\n",
    "# print(len(data))\n",
    "\n",
    "# Group the rows based on 'AC_ID'\n",
    "# grouped_data = data.groupby('AC_ID')\n",
    "# type(grouped_data)\n",
    "\n",
    "# # Create a new DataFrame with the grouped data\n",
    "# grouped_df = pd.DataFrame({'AC_ID': grouped_data.groups.keys(), 'GroupedRows': grouped_data.groups.values()})\n",
    "\n",
    "# # Print the resulting DataFrame\n",
    "# print(grouped_df.head())"
   ]
  },
  {
   "cell_type": "code",
   "execution_count": 3,
   "id": "7e5630b2",
   "metadata": {
    "execution": {
     "iopub.execute_input": "2023-05-24T19:59:16.675350Z",
     "iopub.status.busy": "2023-05-24T19:59:16.674929Z",
     "iopub.status.idle": "2023-05-24T22:02:09.579413Z",
     "shell.execute_reply": "2023-05-24T22:02:09.578140Z"
    },
    "papermill": {
     "duration": 7372.913733,
     "end_time": "2023-05-24T22:02:09.584478",
     "exception": false,
     "start_time": "2023-05-24T19:59:16.670745",
     "status": "completed"
    },
    "tags": []
   },
   "outputs": [
    {
     "name": "stdout",
     "output_type": "stream",
     "text": [
      "   Unnamed: 0    AC_ID    AMOUNT   DOC_DATE  \\\n",
      "0           0  3644877  342800.0  01-NOV-22   \n",
      "1           1  1175256  342800.0  01-NOV-22   \n",
      "2           2  2298226    1500.0  01-NOV-22   \n",
      "3           3  4066427    1500.0  01-NOV-22   \n",
      "4           4  1978564    2550.0  01-NOV-22   \n",
      "\n",
      "                                            NARATION   DR_CR  \\\n",
      "0                                      Cash Withdraw   Debit   \n",
      "1                       Cash Withdrawal From A C No   Credit   \n",
      "2    Cash withdraw from Micro Merchant point MM A C    Debit   \n",
      "3  Credit Against Merchant Cash Withdraw Service ...  Credit   \n",
      "4    Cash withdraw from Micro Merchant point MM A C    Debit   \n",
      "\n",
      "                                              TOKENS  \n",
      "0                                   [cash, withdraw]  \n",
      "1                   [cash, withdraw, from, A, C, No]  \n",
      "2  [cash, withdraw, micro, merchant, point, MM, A...  \n",
      "3  [credit, against, merchant, cash, withdraw, se...  \n",
      "4  [cash, withdraw, micro, merchant, point, MM, A...  \n"
     ]
    }
   ],
   "source": [
    "from nltk.tokenize import word_tokenize\n",
    "from nltk.corpus import stopwords\n",
    "from nltk.stem import PorterStemmer\n",
    "\n",
    "data['NARATION'] = data['NARATION'].str.replace('[^A-Za-z0-9]+', ' ', regex=True)\n",
    "data.head()\n",
    "\n",
    "# Perform tokenization, stemming, and stop word removal\n",
    "stop_words = set(stopwords.words('english'))\n",
    "stemmer = PorterStemmer()\n",
    "data['NARATION'].fillna('', inplace=True)\n",
    "\n",
    "def preprocess_text(text):\n",
    "    tokens = word_tokenize(text)\n",
    "    tokens = [stemmer.stem(token) for token in tokens if token not in stop_words]\n",
    "    return tokens\n",
    "\n",
    "# Apply the preprocessing function to the 'NARATION' column\n",
    "data['TOKENS'] = data['NARATION'].apply(preprocess_text)\n",
    "\n",
    "# Print the preprocessed tokens\n",
    "print(data.head())"
   ]
  },
  {
   "cell_type": "code",
   "execution_count": 4,
   "id": "dfa0f830",
   "metadata": {
    "execution": {
     "iopub.execute_input": "2023-05-24T22:02:09.591913Z",
     "iopub.status.busy": "2023-05-24T22:02:09.591513Z",
     "iopub.status.idle": "2023-05-24T22:10:50.063696Z",
     "shell.execute_reply": "2023-05-24T22:10:50.061031Z"
    },
    "papermill": {
     "duration": 520.482237,
     "end_time": "2023-05-24T22:10:50.069591",
     "exception": false,
     "start_time": "2023-05-24T22:02:09.587354",
     "status": "completed"
    },
    "tags": []
   },
   "outputs": [],
   "source": [
    "# cls = MiniBatchKMeans(n_clusters=5, random_state=random_state)\n",
    "# cls.fit()\n",
    "data.head()\n",
    "vec = TfidfVectorizer(stop_words=\"english\")\n",
    "vec.fit(data.NARATION.values)\n",
    "keywords = vec.transform(data.NARATION.values)"
   ]
  }
 ],
 "metadata": {
  "kernelspec": {
   "display_name": "Python 3",
   "language": "python",
   "name": "python3"
  },
  "language_info": {
   "codemirror_mode": {
    "name": "ipython",
    "version": 3
   },
   "file_extension": ".py",
   "mimetype": "text/x-python",
   "name": "python",
   "nbconvert_exporter": "python",
   "pygments_lexer": "ipython3",
   "version": "3.10.10"
  },
  "papermill": {
   "default_parameters": {},
   "duration": 7957.840258,
   "end_time": "2023-05-24T22:10:54.128826",
   "environment_variables": {},
   "exception": null,
   "input_path": "__notebook__.ipynb",
   "output_path": "__notebook__.ipynb",
   "parameters": {},
   "start_time": "2023-05-24T19:58:16.288568",
   "version": "2.4.0"
  }
 },
 "nbformat": 4,
 "nbformat_minor": 5
}
