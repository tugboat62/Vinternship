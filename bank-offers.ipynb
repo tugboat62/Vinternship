{
 "cells": [
  {
   "cell_type": "code",
   "execution_count": 1,
   "id": "0a315a3f",
   "metadata": {
    "_cell_guid": "b1076dfc-b9ad-4769-8c92-a6c4dae69d19",
    "_uuid": "8f2839f25d086af736a60e9eeb907d3b93b6e0e5",
    "execution": {
     "iopub.execute_input": "2023-05-25T13:24:46.564811Z",
     "iopub.status.busy": "2023-05-25T13:24:46.563396Z",
     "iopub.status.idle": "2023-05-25T13:25:36.967401Z",
     "shell.execute_reply": "2023-05-25T13:25:36.966074Z"
    },
    "papermill": {
     "duration": 50.413679,
     "end_time": "2023-05-25T13:25:36.970828",
     "exception": false,
     "start_time": "2023-05-25T13:24:46.557149",
     "status": "completed"
    },
    "tags": []
   },
   "outputs": [
    {
     "name": "stdout",
     "output_type": "stream",
     "text": [
      "/kaggle/input/bankOffers/Transaction_Naration_Data_Set.csv\n"
     ]
    },
    {
     "name": "stderr",
     "output_type": "stream",
     "text": [
      "/opt/conda/lib/python3.10/site-packages/scipy/__init__.py:146: UserWarning: A NumPy version >=1.16.5 and <1.23.0 is required for this version of SciPy (detected version 1.23.5\n",
      "  warnings.warn(f\"A NumPy version >={np_minversion} and <{np_maxversion}\"\n"
     ]
    }
   ],
   "source": [
    "# This Python 3 environment comes with many helpful analytics libraries installed\n",
    "# It is defined by the kaggle/python Docker image: https://github.com/kaggle/docker-python\n",
    "# For example, here's several helpful packages to load\n",
    "\n",
    "import numpy as np # linear algebra\n",
    "import pandas as pd # data processing, CSV file I/O (e.g. pd.read_csv)\n",
    "\n",
    "# Input data files are available in the read-only \"../input/\" directory\n",
    "# For example, running this (by clicking run or pressing Shift+Enter) will list all files under the input directory\n",
    "\n",
    "import os\n",
    "for dirname, _, filenames in os.walk('/kaggle/input'):\n",
    "    for filename in filenames:\n",
    "        print(os.path.join(dirname, filename))\n",
    "\n",
    "# You can write up to 20GB to the current directory (/kaggle/working/) that gets preserved as output when you create a version using \"Save & Run All\" \n",
    "# You can also write temporary files to /kaggle/temp/, but they won't be saved outside of the current session\n",
    "\n",
    "import pandas as pd\n",
    "from sklearn.feature_extraction.text import TfidfVectorizer\n",
    "from sklearn.cluster import KMeans\n",
    "\n",
    "data = pd.read_csv('/kaggle/input/bankOffers/Transaction_Naration_Data_Set.csv')  # Replace 'transactions.csv' with the actual filename\n",
    "\n",
    "# Perform any necessary preprocessing steps, such as removing noise or irrelevant characters\n"
   ]
  },
  {
   "cell_type": "code",
   "execution_count": 2,
   "id": "dc2ac013",
   "metadata": {
    "execution": {
     "iopub.execute_input": "2023-05-25T13:25:36.982193Z",
     "iopub.status.busy": "2023-05-25T13:25:36.980857Z",
     "iopub.status.idle": "2023-05-25T13:25:36.987811Z",
     "shell.execute_reply": "2023-05-25T13:25:36.986671Z"
    },
    "papermill": {
     "duration": 0.015587,
     "end_time": "2023-05-25T13:25:36.990671",
     "exception": false,
     "start_time": "2023-05-25T13:25:36.975084",
     "status": "completed"
    },
    "tags": []
   },
   "outputs": [],
   "source": [
    "# data.head(20)\n",
    "# data['NARATION'] = data['NARATION'].str.lower()\n",
    "# data.head()\n",
    "\n",
    "# print(data['AMOUNT'].max())\n",
    "# print(data['AMOUNT'].min())\n",
    "\n",
    "# distinct_count = data['AC_ID'].nunique()  # Replace 'column_name' with the actual column name\n",
    "\n",
    "# # Print the number of distinct values\n",
    "# print(\"Number of distinct values:\", distinct_count)\n",
    "# print(len(data))\n",
    "\n",
    "# Group the rows based on 'AC_ID'\n",
    "# grouped_data = data.groupby('AC_ID')\n",
    "# type(grouped_data)\n",
    "\n",
    "# # Create a new DataFrame with the grouped data\n",
    "# grouped_df = pd.DataFrame({'AC_ID': grouped_data.groups.keys(), 'GroupedRows': grouped_data.groups.values()})\n",
    "\n",
    "# # Print the resulting DataFrame\n",
    "# print(grouped_df.head())"
   ]
  },
  {
   "cell_type": "code",
   "execution_count": 3,
   "id": "4f099cc0",
   "metadata": {
    "execution": {
     "iopub.execute_input": "2023-05-25T13:25:37.000400Z",
     "iopub.status.busy": "2023-05-25T13:25:36.999914Z",
     "iopub.status.idle": "2023-05-25T15:30:33.423815Z",
     "shell.execute_reply": "2023-05-25T15:30:33.422325Z"
    },
    "papermill": {
     "duration": 7496.435532,
     "end_time": "2023-05-25T15:30:33.430029",
     "exception": false,
     "start_time": "2023-05-25T13:25:36.994497",
     "status": "completed"
    },
    "tags": []
   },
   "outputs": [
    {
     "name": "stdout",
     "output_type": "stream",
     "text": [
      "   Unnamed: 0    AC_ID    AMOUNT   DOC_DATE  \\\n",
      "0           0  3644877  342800.0  01-NOV-22   \n",
      "1           1  1175256  342800.0  01-NOV-22   \n",
      "2           2  2298226    1500.0  01-NOV-22   \n",
      "3           3  4066427    1500.0  01-NOV-22   \n",
      "4           4  1978564    2550.0  01-NOV-22   \n",
      "\n",
      "                                            NARATION   DR_CR  \\\n",
      "0                                      Cash Withdraw   Debit   \n",
      "1                       Cash Withdrawal From A C No   Credit   \n",
      "2    Cash withdraw from Micro Merchant point MM A C    Debit   \n",
      "3  Credit Against Merchant Cash Withdraw Service ...  Credit   \n",
      "4    Cash withdraw from Micro Merchant point MM A C    Debit   \n",
      "\n",
      "                                              TOKENS  \n",
      "0                                   [cash, withdraw]  \n",
      "1                   [cash, withdraw, from, A, C, No]  \n",
      "2  [cash, withdraw, micro, merchant, point, MM, A...  \n",
      "3  [credit, against, merchant, cash, withdraw, se...  \n",
      "4  [cash, withdraw, micro, merchant, point, MM, A...  \n"
     ]
    }
   ],
   "source": [
    "from nltk.tokenize import word_tokenize\n",
    "from nltk.corpus import stopwords\n",
    "from nltk.stem import PorterStemmer\n",
    "\n",
    "data['NARATION'] = data['NARATION'].str.replace('[^A-Za-z0-9]+', ' ', regex=True)\n",
    "data.head()\n",
    "\n",
    "# Perform tokenization, stemming, and stop word removal\n",
    "stop_words = set(stopwords.words('english'))\n",
    "stemmer = PorterStemmer()\n",
    "data['NARATION'].fillna('', inplace=True)\n",
    "\n",
    "def preprocess_text(text):\n",
    "    tokens = word_tokenize(text)\n",
    "    tokens = [stemmer.stem(token) for token in tokens if token not in stop_words]\n",
    "    return tokens\n",
    "\n",
    "# Apply the preprocessing function to the 'NARATION' column\n",
    "data['TOKENS'] = data['NARATION'].apply(preprocess_text)\n",
    "\n",
    "# Print the preprocessed tokens\n",
    "print(data.head())"
   ]
  },
  {
   "cell_type": "code",
   "execution_count": 4,
   "id": "a7109562",
   "metadata": {
    "execution": {
     "iopub.execute_input": "2023-05-25T15:30:33.439541Z",
     "iopub.status.busy": "2023-05-25T15:30:33.439136Z",
     "iopub.status.idle": "2023-05-25T15:43:04.393667Z",
     "shell.execute_reply": "2023-05-25T15:43:04.392721Z"
    },
    "papermill": {
     "duration": 750.965003,
     "end_time": "2023-05-25T15:43:04.398629",
     "exception": false,
     "start_time": "2023-05-25T15:30:33.433626",
     "status": "completed"
    },
    "tags": []
   },
   "outputs": [
    {
     "data": {
      "text/html": [
       "<div>\n",
       "<style scoped>\n",
       "    .dataframe tbody tr th:only-of-type {\n",
       "        vertical-align: middle;\n",
       "    }\n",
       "\n",
       "    .dataframe tbody tr th {\n",
       "        vertical-align: top;\n",
       "    }\n",
       "\n",
       "    .dataframe thead th {\n",
       "        text-align: right;\n",
       "    }\n",
       "</style>\n",
       "<table border=\"1\" class=\"dataframe\">\n",
       "  <thead>\n",
       "    <tr style=\"text-align: right;\">\n",
       "      <th></th>\n",
       "      <th>Unnamed: 0</th>\n",
       "      <th>AMOUNT</th>\n",
       "      <th>DOC_DATE</th>\n",
       "      <th>NARATION</th>\n",
       "      <th>DR_CR</th>\n",
       "      <th>TOKENS</th>\n",
       "      <th>data</th>\n",
       "    </tr>\n",
       "    <tr>\n",
       "      <th>AC_ID</th>\n",
       "      <th></th>\n",
       "      <th></th>\n",
       "      <th></th>\n",
       "      <th></th>\n",
       "      <th></th>\n",
       "      <th></th>\n",
       "      <th></th>\n",
       "    </tr>\n",
       "  </thead>\n",
       "  <tbody>\n",
       "    <tr>\n",
       "      <th>1</th>\n",
       "      <td>{'AMOUNT': &lt;function &lt;lambda&gt;.&lt;locals&gt;.&lt;lambda...</td>\n",
       "      <td>{'AMOUNT': &lt;function &lt;lambda&gt;.&lt;locals&gt;.&lt;lambda...</td>\n",
       "      <td>{'AMOUNT': &lt;function &lt;lambda&gt;.&lt;locals&gt;.&lt;lambda...</td>\n",
       "      <td>{'AMOUNT': &lt;function &lt;lambda&gt;.&lt;locals&gt;.&lt;lambda...</td>\n",
       "      <td>{'AMOUNT': &lt;function &lt;lambda&gt;.&lt;locals&gt;.&lt;lambda...</td>\n",
       "      <td>{'AMOUNT': &lt;function &lt;lambda&gt;.&lt;locals&gt;.&lt;lambda...</td>\n",
       "      <td>{'AMOUNT': {'AMOUNT': &lt;function &lt;lambda&gt;.&lt;loca...</td>\n",
       "    </tr>\n",
       "    <tr>\n",
       "      <th>2</th>\n",
       "      <td>{'AMOUNT': &lt;function &lt;lambda&gt;.&lt;locals&gt;.&lt;lambda...</td>\n",
       "      <td>{'AMOUNT': &lt;function &lt;lambda&gt;.&lt;locals&gt;.&lt;lambda...</td>\n",
       "      <td>{'AMOUNT': &lt;function &lt;lambda&gt;.&lt;locals&gt;.&lt;lambda...</td>\n",
       "      <td>{'AMOUNT': &lt;function &lt;lambda&gt;.&lt;locals&gt;.&lt;lambda...</td>\n",
       "      <td>{'AMOUNT': &lt;function &lt;lambda&gt;.&lt;locals&gt;.&lt;lambda...</td>\n",
       "      <td>{'AMOUNT': &lt;function &lt;lambda&gt;.&lt;locals&gt;.&lt;lambda...</td>\n",
       "      <td>{'AMOUNT': {'AMOUNT': &lt;function &lt;lambda&gt;.&lt;loca...</td>\n",
       "    </tr>\n",
       "    <tr>\n",
       "      <th>5</th>\n",
       "      <td>{'AMOUNT': &lt;function &lt;lambda&gt;.&lt;locals&gt;.&lt;lambda...</td>\n",
       "      <td>{'AMOUNT': &lt;function &lt;lambda&gt;.&lt;locals&gt;.&lt;lambda...</td>\n",
       "      <td>{'AMOUNT': &lt;function &lt;lambda&gt;.&lt;locals&gt;.&lt;lambda...</td>\n",
       "      <td>{'AMOUNT': &lt;function &lt;lambda&gt;.&lt;locals&gt;.&lt;lambda...</td>\n",
       "      <td>{'AMOUNT': &lt;function &lt;lambda&gt;.&lt;locals&gt;.&lt;lambda...</td>\n",
       "      <td>{'AMOUNT': &lt;function &lt;lambda&gt;.&lt;locals&gt;.&lt;lambda...</td>\n",
       "      <td>{'AMOUNT': {'AMOUNT': &lt;function &lt;lambda&gt;.&lt;loca...</td>\n",
       "    </tr>\n",
       "    <tr>\n",
       "      <th>7</th>\n",
       "      <td>{'AMOUNT': &lt;function &lt;lambda&gt;.&lt;locals&gt;.&lt;lambda...</td>\n",
       "      <td>{'AMOUNT': &lt;function &lt;lambda&gt;.&lt;locals&gt;.&lt;lambda...</td>\n",
       "      <td>{'AMOUNT': &lt;function &lt;lambda&gt;.&lt;locals&gt;.&lt;lambda...</td>\n",
       "      <td>{'AMOUNT': &lt;function &lt;lambda&gt;.&lt;locals&gt;.&lt;lambda...</td>\n",
       "      <td>{'AMOUNT': &lt;function &lt;lambda&gt;.&lt;locals&gt;.&lt;lambda...</td>\n",
       "      <td>{'AMOUNT': &lt;function &lt;lambda&gt;.&lt;locals&gt;.&lt;lambda...</td>\n",
       "      <td>{'AMOUNT': {'AMOUNT': &lt;function &lt;lambda&gt;.&lt;loca...</td>\n",
       "    </tr>\n",
       "    <tr>\n",
       "      <th>10</th>\n",
       "      <td>{'AMOUNT': &lt;function &lt;lambda&gt;.&lt;locals&gt;.&lt;lambda...</td>\n",
       "      <td>{'AMOUNT': &lt;function &lt;lambda&gt;.&lt;locals&gt;.&lt;lambda...</td>\n",
       "      <td>{'AMOUNT': &lt;function &lt;lambda&gt;.&lt;locals&gt;.&lt;lambda...</td>\n",
       "      <td>{'AMOUNT': &lt;function &lt;lambda&gt;.&lt;locals&gt;.&lt;lambda...</td>\n",
       "      <td>{'AMOUNT': &lt;function &lt;lambda&gt;.&lt;locals&gt;.&lt;lambda...</td>\n",
       "      <td>{'AMOUNT': &lt;function &lt;lambda&gt;.&lt;locals&gt;.&lt;lambda...</td>\n",
       "      <td>{'AMOUNT': {'AMOUNT': &lt;function &lt;lambda&gt;.&lt;loca...</td>\n",
       "    </tr>\n",
       "  </tbody>\n",
       "</table>\n",
       "</div>"
      ],
      "text/plain": [
       "                                              Unnamed: 0  \\\n",
       "AC_ID                                                      \n",
       "1      {'AMOUNT': <function <lambda>.<locals>.<lambda...   \n",
       "2      {'AMOUNT': <function <lambda>.<locals>.<lambda...   \n",
       "5      {'AMOUNT': <function <lambda>.<locals>.<lambda...   \n",
       "7      {'AMOUNT': <function <lambda>.<locals>.<lambda...   \n",
       "10     {'AMOUNT': <function <lambda>.<locals>.<lambda...   \n",
       "\n",
       "                                                  AMOUNT  \\\n",
       "AC_ID                                                      \n",
       "1      {'AMOUNT': <function <lambda>.<locals>.<lambda...   \n",
       "2      {'AMOUNT': <function <lambda>.<locals>.<lambda...   \n",
       "5      {'AMOUNT': <function <lambda>.<locals>.<lambda...   \n",
       "7      {'AMOUNT': <function <lambda>.<locals>.<lambda...   \n",
       "10     {'AMOUNT': <function <lambda>.<locals>.<lambda...   \n",
       "\n",
       "                                                DOC_DATE  \\\n",
       "AC_ID                                                      \n",
       "1      {'AMOUNT': <function <lambda>.<locals>.<lambda...   \n",
       "2      {'AMOUNT': <function <lambda>.<locals>.<lambda...   \n",
       "5      {'AMOUNT': <function <lambda>.<locals>.<lambda...   \n",
       "7      {'AMOUNT': <function <lambda>.<locals>.<lambda...   \n",
       "10     {'AMOUNT': <function <lambda>.<locals>.<lambda...   \n",
       "\n",
       "                                                NARATION  \\\n",
       "AC_ID                                                      \n",
       "1      {'AMOUNT': <function <lambda>.<locals>.<lambda...   \n",
       "2      {'AMOUNT': <function <lambda>.<locals>.<lambda...   \n",
       "5      {'AMOUNT': <function <lambda>.<locals>.<lambda...   \n",
       "7      {'AMOUNT': <function <lambda>.<locals>.<lambda...   \n",
       "10     {'AMOUNT': <function <lambda>.<locals>.<lambda...   \n",
       "\n",
       "                                                   DR_CR  \\\n",
       "AC_ID                                                      \n",
       "1      {'AMOUNT': <function <lambda>.<locals>.<lambda...   \n",
       "2      {'AMOUNT': <function <lambda>.<locals>.<lambda...   \n",
       "5      {'AMOUNT': <function <lambda>.<locals>.<lambda...   \n",
       "7      {'AMOUNT': <function <lambda>.<locals>.<lambda...   \n",
       "10     {'AMOUNT': <function <lambda>.<locals>.<lambda...   \n",
       "\n",
       "                                                  TOKENS  \\\n",
       "AC_ID                                                      \n",
       "1      {'AMOUNT': <function <lambda>.<locals>.<lambda...   \n",
       "2      {'AMOUNT': <function <lambda>.<locals>.<lambda...   \n",
       "5      {'AMOUNT': <function <lambda>.<locals>.<lambda...   \n",
       "7      {'AMOUNT': <function <lambda>.<locals>.<lambda...   \n",
       "10     {'AMOUNT': <function <lambda>.<locals>.<lambda...   \n",
       "\n",
       "                                                    data  \n",
       "AC_ID                                                     \n",
       "1      {'AMOUNT': {'AMOUNT': <function <lambda>.<loca...  \n",
       "2      {'AMOUNT': {'AMOUNT': <function <lambda>.<loca...  \n",
       "5      {'AMOUNT': {'AMOUNT': <function <lambda>.<loca...  \n",
       "7      {'AMOUNT': {'AMOUNT': <function <lambda>.<loca...  \n",
       "10     {'AMOUNT': {'AMOUNT': <function <lambda>.<loca...  "
      ]
     },
     "execution_count": 4,
     "metadata": {},
     "output_type": "execute_result"
    }
   ],
   "source": [
    "\n",
    "# data.head()\n",
    "grouped_data = data.groupby('AC_ID').agg(lambda row: {'AMOUNT': lambda y: tuple(y), 'DR_CR': lambda z: tuple(z), 'TOKENS': lambda x: tuple(x)})\n",
    "grouped_data['data'] = grouped_data.apply(lambda row: {'AMOUNT': row['AMOUNT'], 'DR_CR': row['DR_CR'], 'TOKENS': row['TOKENS']}, axis=1)\n",
    "grouped_data.head()\n",
    "# cls = MiniBatchKMeans(n_clusters=5, random_state=random_state)\n",
    "# cls.fit()\n",
    "# data.head()\n",
    "# vec = TfidfVectorizer(stop_words=\"english\")\n",
    "# vec.fit(data.NARATION.values)\n",
    "# keywords = vec.transform(data.NARATION.values)"
   ]
  },
  {
   "cell_type": "code",
   "execution_count": 5,
   "id": "eca91871",
   "metadata": {
    "execution": {
     "iopub.execute_input": "2023-05-25T15:43:04.409385Z",
     "iopub.status.busy": "2023-05-25T15:43:04.408533Z",
     "iopub.status.idle": "2023-05-25T15:51:06.751057Z",
     "shell.execute_reply": "2023-05-25T15:51:06.748278Z"
    },
    "papermill": {
     "duration": 482.362576,
     "end_time": "2023-05-25T15:51:06.765126",
     "exception": false,
     "start_time": "2023-05-25T15:43:04.402550",
     "status": "completed"
    },
    "tags": []
   },
   "outputs": [
    {
     "data": {
      "text/html": [
       "<div>\n",
       "<style scoped>\n",
       "    .dataframe tbody tr th:only-of-type {\n",
       "        vertical-align: middle;\n",
       "    }\n",
       "\n",
       "    .dataframe tbody tr th {\n",
       "        vertical-align: top;\n",
       "    }\n",
       "\n",
       "    .dataframe thead th {\n",
       "        text-align: right;\n",
       "    }\n",
       "</style>\n",
       "<table border=\"1\" class=\"dataframe\">\n",
       "  <thead>\n",
       "    <tr style=\"text-align: right;\">\n",
       "      <th></th>\n",
       "      <th>AC_ID</th>\n",
       "      <th>TRANSACTIONS</th>\n",
       "    </tr>\n",
       "  </thead>\n",
       "  <tbody>\n",
       "    <tr>\n",
       "      <th>0</th>\n",
       "      <td>1</td>\n",
       "      <td>[(9000.0, Credit, [cash, withdraw, from, A, C,...</td>\n",
       "    </tr>\n",
       "    <tr>\n",
       "      <th>1</th>\n",
       "      <td>2</td>\n",
       "      <td>[(500.0, Debit, [withdraw, against, dp, instal...</td>\n",
       "    </tr>\n",
       "    <tr>\n",
       "      <th>2</th>\n",
       "      <td>5</td>\n",
       "      <td>[(100000.0, Credit, [cash, deposit]), (50000.0...</td>\n",
       "    </tr>\n",
       "    <tr>\n",
       "      <th>3</th>\n",
       "      <td>7</td>\n",
       "      <td>[(100000.0, Credit, [agent, bank, cash, deposi...</td>\n",
       "    </tr>\n",
       "    <tr>\n",
       "      <th>4</th>\n",
       "      <td>10</td>\n",
       "      <td>[(50000.0, Credit, [cash, deposit]), (20000.0,...</td>\n",
       "    </tr>\n",
       "  </tbody>\n",
       "</table>\n",
       "</div>"
      ],
      "text/plain": [
       "   AC_ID                                       TRANSACTIONS\n",
       "0      1  [(9000.0, Credit, [cash, withdraw, from, A, C,...\n",
       "1      2  [(500.0, Debit, [withdraw, against, dp, instal...\n",
       "2      5  [(100000.0, Credit, [cash, deposit]), (50000.0...\n",
       "3      7  [(100000.0, Credit, [agent, bank, cash, deposi...\n",
       "4     10  [(50000.0, Credit, [cash, deposit]), (20000.0,..."
      ]
     },
     "execution_count": 5,
     "metadata": {},
     "output_type": "execute_result"
    }
   ],
   "source": [
    "grouped_data2 = data.groupby('AC_ID')\n",
    "\n",
    "# Create a new DataFrame with a list of tuples for each distinct 'ac_no'\n",
    "grouped_df = pd.DataFrame([(AC_ID, list(zip(group['AMOUNT'], group['DR_CR'], group['TOKENS'])))\n",
    "                           for AC_ID, group in grouped_data2],\n",
    "                          columns=['AC_ID', 'TRANSACTIONS'])\n",
    "grouped_df.head()\n"
   ]
  },
  {
   "cell_type": "code",
   "execution_count": 6,
   "id": "eaa83f4b",
   "metadata": {
    "execution": {
     "iopub.execute_input": "2023-05-25T15:51:06.776151Z",
     "iopub.status.busy": "2023-05-25T15:51:06.775439Z",
     "iopub.status.idle": "2023-05-25T15:51:06.827645Z",
     "shell.execute_reply": "2023-05-25T15:51:06.826420Z"
    },
    "papermill": {
     "duration": 0.062007,
     "end_time": "2023-05-25T15:51:06.831806",
     "exception": false,
     "start_time": "2023-05-25T15:51:06.769799",
     "status": "completed"
    },
    "tags": []
   },
   "outputs": [
    {
     "name": "stdout",
     "output_type": "stream",
     "text": [
      "AC_ID           1                                                                                                                                                                                                                                                                                                                                                                                                                                                                                                                                                                                                                                                                                                                                                                                                                                                                                                                                                                                                                                                                                                                                                                                                                                                                                                                                                                                                                                                                                                                                                                                                                                                                                                                                                                                                                                                                                                                                                                                                                                                                                                                                                                                                                                                                                                                                                                                                                                                                                                                                                                                                                                                                                                                                                                                                                                                                                                                                                                                                                                                                                                                                                                                                                                                                                                                                                                                                                                                                                                                                                                                                                                                                                                                                                                                                                                                                                                                                                                                                                                                                                                                                                                                                                                                                                                                                                                                                                                                                                                                                                                                                                                                                                                                                                                                                                                                                                                                                                                                                                                                                                                                                                                                                                                                                                                                                                                                                                                                                                                                                                                                                                                                                                                                                                                                                                                   \n",
      "TRANSACTIONS    [(9000.0, Credit, [cash, withdraw, from, A, C, No]), (39000.0, Debit, [cash, deposit, A, C, No]), (9000.0, Debit, [cash, deposit, A, C, No]), (5000.0, Credit, [cash, withdraw, from, A, C, No]), (7500.0, Credit, [cash, withdraw, from, A, C, No]), (22000.0, Debit, [agent, balanc, transfer, from, convent, To, islam, account]), (4500.0, Debit, [cash, deposit, A, C, No]), (10000.0, Credit, [cash, withdraw, from, A, C, No]), (10000.0, Debit, [cash, deposit, A, C, No]), (30000.0, Credit, [cash, withdraw, from, A, C, No]), (500.0, Debit, [cash, deposit, A, C, No]), (500.0, Debit, [cash, deposit, A, C, No]), (17000.0, Debit, [cash, deposit, A, C, No]), (5000.0, Debit, [cash, deposit, A, C, No]), (17500.0, Credit, [agent, balanc, transfer, from, islam, To, convent]), (500.0, Debit, [cash, deposit, A, C, No]), (3756.73, Credit, [agent, balanc, transfer, from, islam, To, convent]), (2200.0, Credit, [cash, withdraw, from, A, C, No]), (1237.0, Debit, [debit, against, palli, bidyut, bill, collect]), (3000.0, Debit, [cash, deposit, A, C, No]), (437.0, Debit, [debit, against, palli, bidyut, bill, collect]), (1478.0, Debit, [debit, against, palli, bidyut, bill, collect]), (1076.0, Debit, [debit, against, palli, bidyut, bill, collect]), (1076.0, Debit, [debit, against, palli, bidyut, bill, collect]), (1000.0, Debit, [cash, deposit, A, C, No]), (111.0, Debit, [debit, against, palli, bidyut, bill, collect]), (437.0, Debit, [debit, against, palli, bidyut, bill, collect]), (355.0, Debit, [debit, against, palli, bidyut, bill, collect]), (844.0, Debit, [debit, against, palli, bidyut, bill, collect]), (52000.0, Credit, [cash, withdraw, from, A, C, No]), (1000.0, Debit, [cash, deposit, A, C, No]), (288.0, Debit, [debit, against, palli, bidyut, bill, collect]), (236.0, Debit, [debit, against, palli, bidyut, bill, collect]), (527.0, Debit, [debit, against, palli, bidyut, bill, collect]), (467.0, Debit, [debit, against, palli, bidyut, bill, collect]), (1487.0, Debit, [debit, against, palli, bidyut, bill, collect]), (67.0, Debit, [debit, against, palli, bidyut, bill, collect]), (100000.0, Credit, [cash, withdraw, from, A, C, No]), (1000.0, Debit, [cash, deposit, A, C, No]), (500.0, Debit, [cash, deposit, A, C, No]), (10000.0, Credit, [cash, withdraw, from, A, C, No]), (5750.0, Debit, [debit, passport, fee, collect, A, challan, No]), (1105.0, Debit, [debit, against, palli, bidyut, bill, collect]), (355.0, Debit, [debit, against, palli, bidyut, bill, collect]), (622.0, Debit, [debit, against, palli, bidyut, bill, collect]), (1137.0, Debit, [debit, against, palli, bidyut, bill, collect]), (2147.0, Debit, [debit, against, palli, bidyut, bill, collect]), (778.0, Debit, [debit, against, palli, bidyut, bill, collect]), (439.0, Debit, [debit, against, palli, bidyut, bill, collect]), (288.0, Debit, [debit, against, palli, bidyut, bill, collect]), (224.0, Debit, [debit, against, palli, bidyut, bill, collect]), (712.0, Debit, [debit, against, palli, bidyut, bill, collect]), (803.0, Debit, [debit, against, palli, bidyut, bill, collect]), (500.0, Credit, [cash, withdraw, from, A, C, No]), (1510.0, Debit, [debit, against, palli, bidyut, bill, collect]), (467.0, Debit, [debit, against, palli, bidyut, bill, collect]), (467.0, Debit, [debit, against, palli, bidyut, bill, collect]), (1384.0, Debit, [debit, against, palli, bidyut, bill, collect]), (166.0, Debit, [debit, against, palli, bidyut, bill, collect]), (742.0, Debit, [debit, against, palli, bidyut, bill, collect]), (244.0, Debit, [debit, against, palli, bidyut, bill, collect]), (50000.0, Credit, [cash, withdraw, from, A, C, No]), (1800.0, Credit, [cash, withdraw, from, A, C, No]), (2000.0, Debit, [cash, deposit, A, C, No]), (250000.0, Credit, [cash, withdraw, from, A, C, No]), (200000.0, Credit, [cash, withdraw, from, A, C, No]), (2000.0, Debit, [cash, deposit, A, C, No]), (712.0, Debit, [debit, against, palli, bidyut, bill, collect]), (1294.0, Debit, [debit, against, palli, bidyut, bill, collect]), (892.0, Debit, [debit, against, palli, bidyut, bill, collect]), (5000.0, Debit, [cash, deposit, A, C, No]), (2809.0, Debit, [debit, against, palli, bidyut, bill, collect]), (320.0, Debit, [debit, against, palli, bidyut, bill, collect]), (85000.0, Credit, [cash, withdraw, from, A, C, No]), (5000.0, Debit, [cash, deposit, A, C, No]), (355.0, Debit, [debit, against, palli, bidyut, bill, collect]), (832.0, Debit, [debit, against, palli, bidyut, bill, collect]), (558.0, Debit, [debit, against, palli, bidyut, bill, collect]), (1010.0, Debit, [withdraw, against, inter, branch, cash, deposit, A, C, No]), (2000.0, Debit, [cash, deposit, A, C, No]), (500.0, Debit, [cash, deposit, A, C, No]), (3000.0, Debit, [cash, deposit, A, C, No]), (5750.0, Debit, [debit, passport, fee, collect, A, challan, No]), (50000.0, Debit, [cash, deposit, A, C, No]), (52000.0, Debit, [cash, deposit, A, C, No]), (1000.0, Debit, [cash, deposit, A, C, No]), (200000.0, Debit, [agent, balanc, transfer]), (230.0, Credit, [credit, against, stamp, fee]), (2000.0, Credit, [cash, withdraw, from, A, C, No]), (59690.0, Debit, [cash, deposit, A, C, No]), (200.0, Debit, [cash, deposit, A, C, No]), (500000.0, Debit, [agent, balanc, transfer]), (100000.0, Credit, [cash, withdraw, from, A, C, No]), (100000.0, Debit, [cash, deposit, A, C, No]), (250000.0, Credit, [cash, withdraw, from, A, C, No]), (200000.0, Debit, [cash, deposit, A, C, No]), (400000.0, Credit, [agent, bank, cash, deposit]), (60000.0, Credit, [cash, withdraw, from, A, C, No]), (250000.0, Credit, [cash, withdraw, from, A, C, No]), (300000.0, Debit, [cash, deposit, A, C, No]), ...]\n",
      "Name: 0, dtype: object\n"
     ]
    },
    {
     "name": "stderr",
     "output_type": "stream",
     "text": [
      "/tmp/ipykernel_20/2700800042.py:2: FutureWarning: Passing a negative integer is deprecated in version 1.0 and will not be supported in future version. Instead, use None to not limit the column width.\n",
      "  pd.set_option('display.max_colwidth', -1)\n"
     ]
    }
   ],
   "source": [
    "pd.set_option('display.max_columns', None)\n",
    "pd.set_option('display.max_colwidth', -1)\n",
    "\n",
    "# View the full contents of a specific row\n",
    "row_index = 0  # Replace with the desired row index\n",
    "row = grouped_df.iloc[row_index]\n",
    "print(row)"
   ]
  }
 ],
 "metadata": {
  "kernelspec": {
   "display_name": "Python 3",
   "language": "python",
   "name": "python3"
  },
  "language_info": {
   "codemirror_mode": {
    "name": "ipython",
    "version": 3
   },
   "file_extension": ".py",
   "mimetype": "text/x-python",
   "name": "python",
   "nbconvert_exporter": "python",
   "pygments_lexer": "ipython3",
   "version": "3.10.10"
  },
  "papermill": {
   "default_parameters": {},
   "duration": 8802.275828,
   "end_time": "2023-05-25T15:51:12.424876",
   "environment_variables": {},
   "exception": null,
   "input_path": "__notebook__.ipynb",
   "output_path": "__notebook__.ipynb",
   "parameters": {},
   "start_time": "2023-05-25T13:24:30.149048",
   "version": "2.4.0"
  }
 },
 "nbformat": 4,
 "nbformat_minor": 5
}
