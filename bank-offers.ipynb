{
 "cells": [
  {
   "cell_type": "code",
   "execution_count": 1,
   "id": "c3b6874b",
   "metadata": {
    "_cell_guid": "b1076dfc-b9ad-4769-8c92-a6c4dae69d19",
    "_uuid": "8f2839f25d086af736a60e9eeb907d3b93b6e0e5",
    "execution": {
     "iopub.execute_input": "2023-05-23T18:48:35.056743Z",
     "iopub.status.busy": "2023-05-23T18:48:35.056326Z",
     "iopub.status.idle": "2023-05-23T18:49:17.112401Z",
     "shell.execute_reply": "2023-05-23T18:49:17.111116Z"
    },
    "papermill": {
     "duration": 42.063799,
     "end_time": "2023-05-23T18:49:17.115556",
     "exception": false,
     "start_time": "2023-05-23T18:48:35.051757",
     "status": "completed"
    },
    "tags": []
   },
   "outputs": [
    {
     "name": "stdout",
     "output_type": "stream",
     "text": [
      "/kaggle/input/bankOffers/Transaction_Naration_Data_Set.csv\n"
     ]
    },
    {
     "name": "stderr",
     "output_type": "stream",
     "text": [
      "/opt/conda/lib/python3.10/site-packages/scipy/__init__.py:146: UserWarning: A NumPy version >=1.16.5 and <1.23.0 is required for this version of SciPy (detected version 1.23.5\n",
      "  warnings.warn(f\"A NumPy version >={np_minversion} and <{np_maxversion}\"\n"
     ]
    }
   ],
   "source": [
    "# This Python 3 environment comes with many helpful analytics libraries installed\n",
    "# It is defined by the kaggle/python Docker image: https://github.com/kaggle/docker-python\n",
    "# For example, here's several helpful packages to load\n",
    "\n",
    "import numpy as np # linear algebra\n",
    "import pandas as pd # data processing, CSV file I/O (e.g. pd.read_csv)\n",
    "\n",
    "# Input data files are available in the read-only \"../input/\" directory\n",
    "# For example, running this (by clicking run or pressing Shift+Enter) will list all files under the input directory\n",
    "\n",
    "import os\n",
    "for dirname, _, filenames in os.walk('/kaggle/input'):\n",
    "    for filename in filenames:\n",
    "        print(os.path.join(dirname, filename))\n",
    "\n",
    "# You can write up to 20GB to the current directory (/kaggle/working/) that gets preserved as output when you create a version using \"Save & Run All\" \n",
    "# You can also write temporary files to /kaggle/temp/, but they won't be saved outside of the current session\n",
    "\n",
    "import pandas as pd\n",
    "from sklearn.feature_extraction.text import TfidfVectorizer\n",
    "from sklearn.cluster import KMeans\n",
    "\n",
    "data = pd.read_csv('/kaggle/input/bankOffers/Transaction_Naration_Data_Set.csv')  # Replace 'transactions.csv' with the actual filename\n",
    "\n",
    "# Perform any necessary preprocessing steps, such as removing noise or irrelevant characters\n"
   ]
  },
  {
   "cell_type": "code",
   "execution_count": 2,
   "id": "7ded1743",
   "metadata": {
    "execution": {
     "iopub.execute_input": "2023-05-23T18:49:17.123495Z",
     "iopub.status.busy": "2023-05-23T18:49:17.123052Z",
     "iopub.status.idle": "2023-05-23T18:49:17.238739Z",
     "shell.execute_reply": "2023-05-23T18:49:17.237802Z"
    },
    "papermill": {
     "duration": 0.122229,
     "end_time": "2023-05-23T18:49:17.241119",
     "exception": false,
     "start_time": "2023-05-23T18:49:17.118890",
     "status": "completed"
    },
    "tags": []
   },
   "outputs": [
    {
     "name": "stdout",
     "output_type": "stream",
     "text": [
      "41500000.0\n",
      "0.01\n"
     ]
    }
   ],
   "source": [
    "# data.head()\n",
    "print(data['AMOUNT'].max())\n",
    "print(data['AMOUNT'].min())"
   ]
  },
  {
   "cell_type": "code",
   "execution_count": null,
   "id": "8f8926b6",
   "metadata": {
    "papermill": {
     "duration": 0.00256,
     "end_time": "2023-05-23T18:49:17.246501",
     "exception": false,
     "start_time": "2023-05-23T18:49:17.243941",
     "status": "completed"
    },
    "tags": []
   },
   "outputs": [],
   "source": []
  },
  {
   "cell_type": "markdown",
   "id": "36bbe491",
   "metadata": {
    "papermill": {
     "duration": 0.002271,
     "end_time": "2023-05-23T18:49:17.251429",
     "exception": false,
     "start_time": "2023-05-23T18:49:17.249158",
     "status": "completed"
    },
    "tags": []
   },
   "source": []
  }
 ],
 "metadata": {
  "kernelspec": {
   "display_name": "Python 3",
   "language": "python",
   "name": "python3"
  },
  "language_info": {
   "codemirror_mode": {
    "name": "ipython",
    "version": 3
   },
   "file_extension": ".py",
   "mimetype": "text/x-python",
   "name": "python",
   "nbconvert_exporter": "python",
   "pygments_lexer": "ipython3",
   "version": "3.10.10"
  },
  "papermill": {
   "default_parameters": {},
   "duration": 55.736567,
   "end_time": "2023-05-23T18:49:18.578472",
   "environment_variables": {},
   "exception": null,
   "input_path": "__notebook__.ipynb",
   "output_path": "__notebook__.ipynb",
   "parameters": {},
   "start_time": "2023-05-23T18:48:22.841905",
   "version": "2.4.0"
  }
 },
 "nbformat": 4,
 "nbformat_minor": 5
}
