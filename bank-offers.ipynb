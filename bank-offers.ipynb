{
 "cells": [
  {
   "cell_type": "code",
   "execution_count": 1,
   "id": "9a56f6f0",
   "metadata": {
    "_cell_guid": "b1076dfc-b9ad-4769-8c92-a6c4dae69d19",
    "_uuid": "8f2839f25d086af736a60e9eeb907d3b93b6e0e5",
    "execution": {
     "iopub.execute_input": "2023-05-23T21:41:44.185942Z",
     "iopub.status.busy": "2023-05-23T21:41:44.185529Z",
     "iopub.status.idle": "2023-05-23T21:42:28.123196Z",
     "shell.execute_reply": "2023-05-23T21:42:28.122018Z"
    },
    "papermill": {
     "duration": 43.94615,
     "end_time": "2023-05-23T21:42:28.126205",
     "exception": false,
     "start_time": "2023-05-23T21:41:44.180055",
     "status": "completed"
    },
    "tags": []
   },
   "outputs": [
    {
     "name": "stdout",
     "output_type": "stream",
     "text": [
      "/kaggle/input/bankOffers/Transaction_Naration_Data_Set.csv\n"
     ]
    },
    {
     "name": "stderr",
     "output_type": "stream",
     "text": [
      "/opt/conda/lib/python3.10/site-packages/scipy/__init__.py:146: UserWarning: A NumPy version >=1.16.5 and <1.23.0 is required for this version of SciPy (detected version 1.23.5\n",
      "  warnings.warn(f\"A NumPy version >={np_minversion} and <{np_maxversion}\"\n"
     ]
    }
   ],
   "source": [
    "# This Python 3 environment comes with many helpful analytics libraries installed\n",
    "# It is defined by the kaggle/python Docker image: https://github.com/kaggle/docker-python\n",
    "# For example, here's several helpful packages to load\n",
    "\n",
    "import numpy as np # linear algebra\n",
    "import pandas as pd # data processing, CSV file I/O (e.g. pd.read_csv)\n",
    "\n",
    "# Input data files are available in the read-only \"../input/\" directory\n",
    "# For example, running this (by clicking run or pressing Shift+Enter) will list all files under the input directory\n",
    "\n",
    "import os\n",
    "for dirname, _, filenames in os.walk('/kaggle/input'):\n",
    "    for filename in filenames:\n",
    "        print(os.path.join(dirname, filename))\n",
    "\n",
    "# You can write up to 20GB to the current directory (/kaggle/working/) that gets preserved as output when you create a version using \"Save & Run All\" \n",
    "# You can also write temporary files to /kaggle/temp/, but they won't be saved outside of the current session\n",
    "\n",
    "import pandas as pd\n",
    "from sklearn.feature_extraction.text import TfidfVectorizer\n",
    "from sklearn.cluster import KMeans\n",
    "\n",
    "data = pd.read_csv('/kaggle/input/bankOffers/Transaction_Naration_Data_Set.csv')  # Replace 'transactions.csv' with the actual filename\n",
    "\n",
    "# Perform any necessary preprocessing steps, such as removing noise or irrelevant characters\n"
   ]
  },
  {
   "cell_type": "code",
   "execution_count": 2,
   "id": "9e4b0fdf",
   "metadata": {
    "execution": {
     "iopub.execute_input": "2023-05-23T21:42:28.135087Z",
     "iopub.status.busy": "2023-05-23T21:42:28.134353Z",
     "iopub.status.idle": "2023-05-23T21:43:19.081723Z",
     "shell.execute_reply": "2023-05-23T21:43:19.080342Z"
    },
    "papermill": {
     "duration": 50.956076,
     "end_time": "2023-05-23T21:43:19.085689",
     "exception": false,
     "start_time": "2023-05-23T21:42:28.129613",
     "status": "completed"
    },
    "tags": []
   },
   "outputs": [
    {
     "name": "stdout",
     "output_type": "stream",
     "text": [
      "   AC_ID                                        GroupedRows\n",
      "0      1  Int64Index([     102,      693,     1613,     ...\n",
      "1      2  Int64Index([  494649,  2948399,  3325637,  455...\n",
      "2      5  Int64Index([5458066, 5974596, 6058425, 6765542...\n",
      "3      7  Int64Index([5838256, 5951261, 6765543], dtype=...\n",
      "4     10  Int64Index([ 3419696,  3570588,  3784754,  482...\n"
     ]
    }
   ],
   "source": [
    "# data.head(20)\n",
    "\n",
    "# print(data['AMOUNT'].max())\n",
    "# print(data['AMOUNT'].min())\n",
    "\n",
    "# distinct_count = data['AC_ID'].nunique()  # Replace 'column_name' with the actual column name\n",
    "\n",
    "# # Print the number of distinct values\n",
    "# print(\"Number of distinct values:\", distinct_count)\n",
    "# print(len(data))\n",
    "\n",
    "# Group the rows based on 'AC_ID'\n",
    "grouped_data = data.groupby('AC_ID')\n",
    "type(grouped_data)\n",
    "\n",
    "# Create a new DataFrame with the grouped data\n",
    "grouped_df = pd.DataFrame({'AC_ID': grouped_data.groups.keys(), 'GroupedRows': grouped_data.groups.values()})\n",
    "\n",
    "# Print the resulting DataFrame\n",
    "print(grouped_df.head())"
   ]
  },
  {
   "cell_type": "code",
   "execution_count": 3,
   "id": "77d033f6",
   "metadata": {
    "execution": {
     "iopub.execute_input": "2023-05-23T21:43:19.093778Z",
     "iopub.status.busy": "2023-05-23T21:43:19.093357Z",
     "iopub.status.idle": "2023-05-23T21:51:58.276374Z",
     "shell.execute_reply": "2023-05-23T21:51:58.275042Z"
    },
    "papermill": {
     "duration": 519.190493,
     "end_time": "2023-05-23T21:51:58.279391",
     "exception": false,
     "start_time": "2023-05-23T21:43:19.088898",
     "status": "completed"
    },
    "tags": []
   },
   "outputs": [],
   "source": [
    "import pandas as pd\n",
    "from nltk.tokenize import word_tokenize\n",
    "from nltk.corpus import stopwords\n",
    "from nltk.stem import PorterStemmer\n",
    "\n",
    "data['NARATION'].fillna('', inplace=True)\n",
    "vec = TfidfVectorizer(stop_words=\"english\")\n",
    "vec.fit(data.NARATION.values)\n",
    "keywords = vec.transform(data.NARATION.values)\n",
    "\n",
    "# # Perform tokenization, stemming, and stop word removal\n",
    "# stop_words = set(stopwords.words('english'))\n",
    "# stemmer = PorterStemmer()\n",
    "\n",
    "# def preprocess_text(text):\n",
    "#     tokens = word_tokenize(text)\n",
    "#     tokens = [stemmer.stem(token) for token in tokens if token.lower() not in stop_words and token.lower() in keywords]\n",
    "#     return tokens\n",
    "\n",
    "# # Apply the preprocessing function to the 'NARATION' column\n",
    "# data['TOKENS'] = data['NARATION'].apply(preprocess_text)\n",
    "\n",
    "# # Print the preprocessed tokens\n",
    "# print(data['TOKENS'])\n"
   ]
  },
  {
   "cell_type": "code",
   "execution_count": 4,
   "id": "505f1a4b",
   "metadata": {
    "execution": {
     "iopub.execute_input": "2023-05-23T21:51:58.288011Z",
     "iopub.status.busy": "2023-05-23T21:51:58.287141Z",
     "iopub.status.idle": "2023-05-23T21:51:58.311783Z",
     "shell.execute_reply": "2023-05-23T21:51:58.310829Z"
    },
    "papermill": {
     "duration": 0.03135,
     "end_time": "2023-05-23T21:51:58.314081",
     "exception": false,
     "start_time": "2023-05-23T21:51:58.282731",
     "status": "completed"
    },
    "tags": []
   },
   "outputs": [
    {
     "data": {
      "text/html": [
       "<div>\n",
       "<style scoped>\n",
       "    .dataframe tbody tr th:only-of-type {\n",
       "        vertical-align: middle;\n",
       "    }\n",
       "\n",
       "    .dataframe tbody tr th {\n",
       "        vertical-align: top;\n",
       "    }\n",
       "\n",
       "    .dataframe thead th {\n",
       "        text-align: right;\n",
       "    }\n",
       "</style>\n",
       "<table border=\"1\" class=\"dataframe\">\n",
       "  <thead>\n",
       "    <tr style=\"text-align: right;\">\n",
       "      <th></th>\n",
       "      <th>Unnamed: 0</th>\n",
       "      <th>AC_ID</th>\n",
       "      <th>AMOUNT</th>\n",
       "      <th>DOC_DATE</th>\n",
       "      <th>NARATION</th>\n",
       "      <th>DR_CR</th>\n",
       "    </tr>\n",
       "  </thead>\n",
       "  <tbody>\n",
       "    <tr>\n",
       "      <th>0</th>\n",
       "      <td>0</td>\n",
       "      <td>3644877</td>\n",
       "      <td>342800.0</td>\n",
       "      <td>01-NOV-22</td>\n",
       "      <td>Cash Withdraw</td>\n",
       "      <td>Debit</td>\n",
       "    </tr>\n",
       "    <tr>\n",
       "      <th>1</th>\n",
       "      <td>1</td>\n",
       "      <td>1175256</td>\n",
       "      <td>342800.0</td>\n",
       "      <td>01-NOV-22</td>\n",
       "      <td>Cash Withdrawal From A/C No.:</td>\n",
       "      <td>Credit</td>\n",
       "    </tr>\n",
       "    <tr>\n",
       "      <th>2</th>\n",
       "      <td>2</td>\n",
       "      <td>2298226</td>\n",
       "      <td>1500.0</td>\n",
       "      <td>01-NOV-22</td>\n",
       "      <td>Cash withdraw from Micro Merchant point, MM A/C</td>\n",
       "      <td>Debit</td>\n",
       "    </tr>\n",
       "    <tr>\n",
       "      <th>3</th>\n",
       "      <td>3</td>\n",
       "      <td>4066427</td>\n",
       "      <td>1500.0</td>\n",
       "      <td>01-NOV-22</td>\n",
       "      <td>Credit Against Merchant Cash Withdraw Service ...</td>\n",
       "      <td>Credit</td>\n",
       "    </tr>\n",
       "    <tr>\n",
       "      <th>4</th>\n",
       "      <td>4</td>\n",
       "      <td>1978564</td>\n",
       "      <td>2550.0</td>\n",
       "      <td>01-NOV-22</td>\n",
       "      <td>Cash withdraw from Micro Merchant point, MM A/C</td>\n",
       "      <td>Debit</td>\n",
       "    </tr>\n",
       "  </tbody>\n",
       "</table>\n",
       "</div>"
      ],
      "text/plain": [
       "   Unnamed: 0    AC_ID    AMOUNT   DOC_DATE  \\\n",
       "0           0  3644877  342800.0  01-NOV-22   \n",
       "1           1  1175256  342800.0  01-NOV-22   \n",
       "2           2  2298226    1500.0  01-NOV-22   \n",
       "3           3  4066427    1500.0  01-NOV-22   \n",
       "4           4  1978564    2550.0  01-NOV-22   \n",
       "\n",
       "                                            NARATION   DR_CR  \n",
       "0                                      Cash Withdraw   Debit  \n",
       "1                     Cash Withdrawal From A/C No.:   Credit  \n",
       "2   Cash withdraw from Micro Merchant point, MM A/C    Debit  \n",
       "3  Credit Against Merchant Cash Withdraw Service ...  Credit  \n",
       "4   Cash withdraw from Micro Merchant point, MM A/C    Debit  "
      ]
     },
     "execution_count": 4,
     "metadata": {},
     "output_type": "execute_result"
    }
   ],
   "source": [
    "# cls = MiniBatchKMeans(n_clusters=5, random_state=random_state)\n",
    "# cls.fit()\n",
    "data.head()\n"
   ]
  },
  {
   "cell_type": "markdown",
   "id": "18005f65",
   "metadata": {
    "papermill": {
     "duration": 0.002945,
     "end_time": "2023-05-23T21:51:58.320386",
     "exception": false,
     "start_time": "2023-05-23T21:51:58.317441",
     "status": "completed"
    },
    "tags": []
   },
   "source": []
  }
 ],
 "metadata": {
  "kernelspec": {
   "display_name": "Python 3",
   "language": "python",
   "name": "python3"
  },
  "language_info": {
   "codemirror_mode": {
    "name": "ipython",
    "version": 3
   },
   "file_extension": ".py",
   "mimetype": "text/x-python",
   "name": "python",
   "nbconvert_exporter": "python",
   "pygments_lexer": "ipython3",
   "version": "3.10.10"
  },
  "papermill": {
   "default_parameters": {},
   "duration": 630.036138,
   "end_time": "2023-05-23T21:52:00.945650",
   "environment_variables": {},
   "exception": null,
   "input_path": "__notebook__.ipynb",
   "output_path": "__notebook__.ipynb",
   "parameters": {},
   "start_time": "2023-05-23T21:41:30.909512",
   "version": "2.4.0"
  }
 },
 "nbformat": 4,
 "nbformat_minor": 5
}
